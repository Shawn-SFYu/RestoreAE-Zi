{
 "cells": [
  {
   "cell_type": "code",
   "execution_count": null,
   "id": "162092dc",
   "metadata": {},
   "outputs": [],
   "source": [
    "import torch\n",
    "import torchvision\n",
    "import argparse\n",
    "import matplotlib.pyplot as plt\n",
    "import os\n",
    "\n",
    "# cd to repo directory\n",
    "os.chdir('..')\n",
    "\n",
    "from cae import CAE\n",
    "from restore_dataset import build_dataset, get_args_parser"
   ]
  },
  {
   "cell_type": "code",
   "execution_count": null,
   "id": "3705c1ac",
   "metadata": {},
   "outputs": [],
   "source": [
    "parser = argparse.ArgumentParser('Denoise Dataset', parents=[get_args_parser()])\n",
    "args, _ = parser.parse_known_args()\n",
    "print(args)"
   ]
  },
  {
   "cell_type": "code",
   "execution_count": null,
   "id": "23a1da7c",
   "metadata": {},
   "outputs": [],
   "source": [
    "# specify your checkpoint location here\n",
    "checkpoint = 'checkpoint-cae.pth'\n",
    "!ls -hl $checkpoint"
   ]
  },
  {
   "cell_type": "code",
   "execution_count": null,
   "id": "6a9bfe1e",
   "metadata": {},
   "outputs": [],
   "source": [
    "model = CAE(512)\n",
    "device = torch.device('cuda' if torch.cuda.is_available() else 'cpu')\n",
    "ckpt = torch.load(checkpoint, map_location=device)\n",
    "model.load_state_dict(ckpt['model'])\n",
    "model.eval()"
   ]
  },
  {
   "cell_type": "code",
   "execution_count": null,
   "id": "a93a5f40-2169-4df2-a58d-28a027248c57",
   "metadata": {},
   "outputs": [],
   "source": [
    "# create dataset and dataloader\n",
    "dataset, args.nb_classes = build_dataset(args=args)\n",
    "data_loader = torch.utils.data.DataLoader(\n",
    "    dataset, shuffle=True,\n",
    "    batch_size=1\n",
    ")"
   ]
  },
  {
   "cell_type": "code",
   "execution_count": null,
   "id": "7abffbe7",
   "metadata": {},
   "outputs": [],
   "source": [
    "# Extract inputs and labels from the batch\n",
    "for batch_data in data_loader:\n",
    "    input_img, original = batch_data\n",
    "    break\n",
    "\n",
    "with torch.no_grad():\n",
    "    output = model(input_img)\n",
    "    \n",
    "\n",
    "noisy = input_img[:, 0, :, :]\n",
    "standard = input_img[:, 1, :, :]\n",
    "original = torch.squeeze(original, dim=0)\n",
    "output = torch.squeeze(output, dim=0)\n",
    "print(f\"noisy shape {noisy.shape}\")\n",
    "print(f\"original shape {original.shape}\")\n",
    "print(f\"output shape {output.shape}\")\n",
    "\n",
    "# visualization\n",
    "grid_img = torchvision.utils.make_grid([noisy, standard, original, output], nrow=4, padding=4)\n",
    "plt.imshow(grid_img.permute(1, 2, 0), cmap='gray')\n",
    "plt.axis('off')\n",
    "plt.show()"
   ]
  },
  {
   "cell_type": "code",
   "execution_count": null,
   "id": "fa3bd94a",
   "metadata": {},
   "outputs": [],
   "source": []
  }
 ],
 "metadata": {
  "kernelspec": {
   "display_name": "zi",
   "language": "python",
   "name": "zi"
  },
  "language_info": {
   "codemirror_mode": {
    "name": "ipython",
    "version": 3
   },
   "file_extension": ".py",
   "mimetype": "text/x-python",
   "name": "python",
   "nbconvert_exporter": "python",
   "pygments_lexer": "ipython3",
   "version": "3.9.5"
  }
 },
 "nbformat": 4,
 "nbformat_minor": 5
}
