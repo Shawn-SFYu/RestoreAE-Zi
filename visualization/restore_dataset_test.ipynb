{
 "cells": [
  {
   "cell_type": "code",
   "execution_count": null,
   "id": "0446285d",
   "metadata": {},
   "outputs": [],
   "source": [
    "import os\n",
    "# change to repo directory\n",
    "os.chdir('..')\n",
    "!pwd"
   ]
  },
  {
   "cell_type": "code",
   "execution_count": null,
   "id": "7e1454dc",
   "metadata": {},
   "outputs": [],
   "source": [
    "run restore_dataset.py"
   ]
  },
  {
   "cell_type": "code",
   "execution_count": null,
   "id": "88b9c886",
   "metadata": {},
   "outputs": [],
   "source": []
  }
 ],
 "metadata": {
  "kernelspec": {
   "display_name": "zi",
   "language": "python",
   "name": "zi"
  },
  "language_info": {
   "codemirror_mode": {
    "name": "ipython",
    "version": 3
   },
   "file_extension": ".py",
   "mimetype": "text/x-python",
   "name": "python",
   "nbconvert_exporter": "python",
   "pygments_lexer": "ipython3",
   "version": "3.9.5"
  }
 },
 "nbformat": 4,
 "nbformat_minor": 5
}
