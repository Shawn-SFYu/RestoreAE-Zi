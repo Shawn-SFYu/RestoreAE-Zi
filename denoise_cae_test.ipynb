{
 "cells": [
  {
   "cell_type": "code",
   "execution_count": null,
   "id": "a4b15b85",
   "metadata": {},
   "outputs": [
    {
     "name": "stdout",
     "output_type": "stream",
     "text": [
      "Not using distributed mode\n",
      "Namespace(auto_resume=True, batch_size=64, clip_grad=None, crop_pct=None, data_path='./DicData', data_set='image_folder', device='cuda', disable_eval=True, dist_eval=True, dist_on_itp=False, dist_url='env://', distributed=False, enable_wandb=False, epochs=100, eval=False, eval_data_path=None, finetune='', head_init_scale=1.0, latent_size=512, layer_decay=1.0, local_rank=-1, log_dir='./log', lr=0.004, min_lr=1e-06, model='CAE', model_ema=False, model_ema_decay=0.9999, model_ema_eval=False, model_ema_force_cpu=False, model_key='model|module', model_prefix='', momentum=0.9, nb_classes=3751, num_workers=10, opt='adamw', opt_betas=None, opt_eps=1e-08, output_dir='', pin_mem=True, project='convnext', recount=1, remode='pixel', reprob=0.25, resplit=False, resume='', save_ckpt=True, save_ckpt_freq=1, save_ckpt_num=3, seed=0, start_epoch=0, update_freq=1, use_amp=False, wandb_ckpt=False, warmup_epochs=20, warmup_steps=-1, weight_decay=0.05, weight_decay_end=None, world_size=4)\n",
      "Number of the class = 3751\n",
      "Sampler_train = <torch.utils.data.distributed.DistributedSampler object at 0x7f20008dc400>\n",
      "Dataset Dataset DenoiseFolder\n",
      "    Number of datapoints: 45036\n",
      "    Root location: ./DicData\n",
      "    StandardTransform\n",
      "Transform: Compose(\n",
      "               Grayscale(num_output_channels=1)\n",
      "               <denoise_dataset_classification.PaintingTransform object at 0x7f2160132070>\n",
      "               ToTensor()\n",
      "           )\n",
      "Model = CAE(\n",
      "  (encoder): ConvNeXt(\n",
      "    (downsample_layers): ModuleList(\n",
      "      (0): Sequential(\n",
      "        (0): Conv2d(2, 96, kernel_size=(4, 4), stride=(4, 4))\n",
      "        (1): LayerNorm()\n",
      "      )\n",
      "      (1): Sequential(\n",
      "        (0): LayerNorm()\n",
      "        (1): Conv2d(96, 192, kernel_size=(2, 2), stride=(2, 2))\n",
      "      )\n",
      "      (2): Sequential(\n",
      "        (0): LayerNorm()\n",
      "        (1): Conv2d(192, 384, kernel_size=(2, 2), stride=(2, 2))\n",
      "      )\n",
      "      (3): Sequential(\n",
      "        (0): LayerNorm()\n",
      "        (1): Conv2d(384, 768, kernel_size=(2, 2), stride=(2, 2))\n",
      "      )\n",
      "    )\n",
      "    (stages): ModuleList(\n",
      "      (0): Sequential(\n",
      "        (0): Block(\n",
      "          (dwconv): Conv2d(96, 96, kernel_size=(7, 7), stride=(1, 1), padding=(3, 3), groups=96)\n",
      "          (norm): LayerNorm()\n",
      "          (pwconv1): Linear(in_features=96, out_features=384, bias=True)\n",
      "          (act): GELU(approximate='none')\n",
      "          (pwconv2): Linear(in_features=384, out_features=96, bias=True)\n",
      "          (drop_path): Identity()\n",
      "        )\n",
      "        (1): Block(\n",
      "          (dwconv): Conv2d(96, 96, kernel_size=(7, 7), stride=(1, 1), padding=(3, 3), groups=96)\n",
      "          (norm): LayerNorm()\n",
      "          (pwconv1): Linear(in_features=96, out_features=384, bias=True)\n",
      "          (act): GELU(approximate='none')\n",
      "          (pwconv2): Linear(in_features=384, out_features=96, bias=True)\n",
      "          (drop_path): Identity()\n",
      "        )\n",
      "        (2): Block(\n",
      "          (dwconv): Conv2d(96, 96, kernel_size=(7, 7), stride=(1, 1), padding=(3, 3), groups=96)\n",
      "          (norm): LayerNorm()\n",
      "          (pwconv1): Linear(in_features=96, out_features=384, bias=True)\n",
      "          (act): GELU(approximate='none')\n",
      "          (pwconv2): Linear(in_features=384, out_features=96, bias=True)\n",
      "          (drop_path): Identity()\n",
      "        )\n",
      "      )\n",
      "      (1): Sequential(\n",
      "        (0): Block(\n",
      "          (dwconv): Conv2d(192, 192, kernel_size=(7, 7), stride=(1, 1), padding=(3, 3), groups=192)\n",
      "          (norm): LayerNorm()\n",
      "          (pwconv1): Linear(in_features=192, out_features=768, bias=True)\n",
      "          (act): GELU(approximate='none')\n",
      "          (pwconv2): Linear(in_features=768, out_features=192, bias=True)\n",
      "          (drop_path): Identity()\n",
      "        )\n",
      "        (1): Block(\n",
      "          (dwconv): Conv2d(192, 192, kernel_size=(7, 7), stride=(1, 1), padding=(3, 3), groups=192)\n",
      "          (norm): LayerNorm()\n",
      "          (pwconv1): Linear(in_features=192, out_features=768, bias=True)\n",
      "          (act): GELU(approximate='none')\n",
      "          (pwconv2): Linear(in_features=768, out_features=192, bias=True)\n",
      "          (drop_path): Identity()\n",
      "        )\n",
      "        (2): Block(\n",
      "          (dwconv): Conv2d(192, 192, kernel_size=(7, 7), stride=(1, 1), padding=(3, 3), groups=192)\n",
      "          (norm): LayerNorm()\n",
      "          (pwconv1): Linear(in_features=192, out_features=768, bias=True)\n",
      "          (act): GELU(approximate='none')\n",
      "          (pwconv2): Linear(in_features=768, out_features=192, bias=True)\n",
      "          (drop_path): Identity()\n",
      "        )\n",
      "      )\n",
      "      (2): Sequential(\n",
      "        (0): Block(\n",
      "          (dwconv): Conv2d(384, 384, kernel_size=(7, 7), stride=(1, 1), padding=(3, 3), groups=384)\n",
      "          (norm): LayerNorm()\n",
      "          (pwconv1): Linear(in_features=384, out_features=1536, bias=True)\n",
      "          (act): GELU(approximate='none')\n",
      "          (pwconv2): Linear(in_features=1536, out_features=384, bias=True)\n",
      "          (drop_path): Identity()\n",
      "        )\n",
      "        (1): Block(\n",
      "          (dwconv): Conv2d(384, 384, kernel_size=(7, 7), stride=(1, 1), padding=(3, 3), groups=384)\n",
      "          (norm): LayerNorm()\n",
      "          (pwconv1): Linear(in_features=384, out_features=1536, bias=True)\n",
      "          (act): GELU(approximate='none')\n",
      "          (pwconv2): Linear(in_features=1536, out_features=384, bias=True)\n",
      "          (drop_path): Identity()\n",
      "        )\n",
      "        (2): Block(\n",
      "          (dwconv): Conv2d(384, 384, kernel_size=(7, 7), stride=(1, 1), padding=(3, 3), groups=384)\n",
      "          (norm): LayerNorm()\n",
      "          (pwconv1): Linear(in_features=384, out_features=1536, bias=True)\n",
      "          (act): GELU(approximate='none')\n",
      "          (pwconv2): Linear(in_features=1536, out_features=384, bias=True)\n",
      "          (drop_path): Identity()\n",
      "        )\n",
      "        (3): Block(\n",
      "          (dwconv): Conv2d(384, 384, kernel_size=(7, 7), stride=(1, 1), padding=(3, 3), groups=384)\n",
      "          (norm): LayerNorm()\n",
      "          (pwconv1): Linear(in_features=384, out_features=1536, bias=True)\n",
      "          (act): GELU(approximate='none')\n",
      "          (pwconv2): Linear(in_features=1536, out_features=384, bias=True)\n",
      "          (drop_path): Identity()\n",
      "        )\n",
      "        (4): Block(\n",
      "          (dwconv): Conv2d(384, 384, kernel_size=(7, 7), stride=(1, 1), padding=(3, 3), groups=384)\n",
      "          (norm): LayerNorm()\n",
      "          (pwconv1): Linear(in_features=384, out_features=1536, bias=True)\n",
      "          (act): GELU(approximate='none')\n",
      "          (pwconv2): Linear(in_features=1536, out_features=384, bias=True)\n",
      "          (drop_path): Identity()\n",
      "        )\n",
      "        (5): Block(\n",
      "          (dwconv): Conv2d(384, 384, kernel_size=(7, 7), stride=(1, 1), padding=(3, 3), groups=384)\n",
      "          (norm): LayerNorm()\n",
      "          (pwconv1): Linear(in_features=384, out_features=1536, bias=True)\n",
      "          (act): GELU(approximate='none')\n",
      "          (pwconv2): Linear(in_features=1536, out_features=384, bias=True)\n",
      "          (drop_path): Identity()\n",
      "        )\n",
      "        (6): Block(\n",
      "          (dwconv): Conv2d(384, 384, kernel_size=(7, 7), stride=(1, 1), padding=(3, 3), groups=384)\n",
      "          (norm): LayerNorm()\n",
      "          (pwconv1): Linear(in_features=384, out_features=1536, bias=True)\n",
      "          (act): GELU(approximate='none')\n",
      "          (pwconv2): Linear(in_features=1536, out_features=384, bias=True)\n",
      "          (drop_path): Identity()\n",
      "        )\n",
      "        (7): Block(\n",
      "          (dwconv): Conv2d(384, 384, kernel_size=(7, 7), stride=(1, 1), padding=(3, 3), groups=384)\n",
      "          (norm): LayerNorm()\n",
      "          (pwconv1): Linear(in_features=384, out_features=1536, bias=True)\n",
      "          (act): GELU(approximate='none')\n",
      "          (pwconv2): Linear(in_features=1536, out_features=384, bias=True)\n",
      "          (drop_path): Identity()\n",
      "        )\n",
      "        (8): Block(\n",
      "          (dwconv): Conv2d(384, 384, kernel_size=(7, 7), stride=(1, 1), padding=(3, 3), groups=384)\n",
      "          (norm): LayerNorm()\n",
      "          (pwconv1): Linear(in_features=384, out_features=1536, bias=True)\n",
      "          (act): GELU(approximate='none')\n",
      "          (pwconv2): Linear(in_features=1536, out_features=384, bias=True)\n",
      "          (drop_path): Identity()\n",
      "        )\n",
      "      )\n",
      "      (3): Sequential(\n",
      "        (0): Block(\n",
      "          (dwconv): Conv2d(768, 768, kernel_size=(7, 7), stride=(1, 1), padding=(3, 3), groups=768)\n",
      "          (norm): LayerNorm()\n",
      "          (pwconv1): Linear(in_features=768, out_features=3072, bias=True)\n",
      "          (act): GELU(approximate='none')\n",
      "          (pwconv2): Linear(in_features=3072, out_features=768, bias=True)\n",
      "          (drop_path): Identity()\n",
      "        )\n",
      "        (1): Block(\n",
      "          (dwconv): Conv2d(768, 768, kernel_size=(7, 7), stride=(1, 1), padding=(3, 3), groups=768)\n",
      "          (norm): LayerNorm()\n",
      "          (pwconv1): Linear(in_features=768, out_features=3072, bias=True)\n",
      "          (act): GELU(approximate='none')\n",
      "          (pwconv2): Linear(in_features=3072, out_features=768, bias=True)\n",
      "          (drop_path): Identity()\n",
      "        )\n",
      "        (2): Block(\n",
      "          (dwconv): Conv2d(768, 768, kernel_size=(7, 7), stride=(1, 1), padding=(3, 3), groups=768)\n",
      "          (norm): LayerNorm()\n",
      "          (pwconv1): Linear(in_features=768, out_features=3072, bias=True)\n",
      "          (act): GELU(approximate='none')\n",
      "          (pwconv2): Linear(in_features=3072, out_features=768, bias=True)\n",
      "          (drop_path): Identity()\n",
      "        )\n",
      "      )\n",
      "    )\n",
      "    (norm): LayerNorm((768,), eps=1e-06, elementwise_affine=True)\n",
      "  )\n",
      "  (decoder): RevConvNext(\n",
      "    (upsample_layers): ModuleList(\n",
      "      (0): Sequential(\n",
      "        (0): ConvTranspose2d(768, 768, kernel_size=(7, 7), stride=(1, 1), groups=768)\n",
      "        (1): LayerNorm()\n",
      "      )\n",
      "      (1): Sequential(\n",
      "        (0): LayerNorm()\n",
      "        (1): ConvTranspose2d(768, 384, kernel_size=(2, 2), stride=(2, 2))\n",
      "      )\n",
      "      (2): Sequential(\n",
      "        (0): LayerNorm()\n",
      "        (1): ConvTranspose2d(384, 192, kernel_size=(2, 2), stride=(2, 2))\n",
      "      )\n",
      "      (3): Sequential(\n",
      "        (0): LayerNorm()\n",
      "        (1): ConvTranspose2d(192, 96, kernel_size=(2, 2), stride=(2, 2))\n",
      "      )\n",
      "    )\n",
      "    (last_upsample): Sequential(\n",
      "      (0): ConvTranspose2d(96, 48, kernel_size=(2, 2), stride=(2, 2))\n",
      "      (1): LayerNorm()\n",
      "      (2): ConvTranspose2d(48, 24, kernel_size=(2, 2), stride=(2, 2))\n",
      "      (3): LayerNorm()\n",
      "      (4): ConvTranspose2d(24, 1, kernel_size=(7, 7), stride=(1, 1), padding=(3, 3))\n",
      "    )\n",
      "    (stages): ModuleList(\n",
      "      (0): Sequential(\n",
      "        (0): Block(\n",
      "          (dwconv): Conv2d(768, 768, kernel_size=(7, 7), stride=(1, 1), padding=(3, 3), groups=768)\n",
      "          (norm): LayerNorm()\n",
      "          (pwconv1): Linear(in_features=768, out_features=3072, bias=True)\n",
      "          (act): GELU(approximate='none')\n",
      "          (pwconv2): Linear(in_features=3072, out_features=768, bias=True)\n",
      "          (drop_path): Identity()\n",
      "        )\n",
      "        (1): Block(\n",
      "          (dwconv): Conv2d(768, 768, kernel_size=(7, 7), stride=(1, 1), padding=(3, 3), groups=768)\n",
      "          (norm): LayerNorm()\n",
      "          (pwconv1): Linear(in_features=768, out_features=3072, bias=True)\n",
      "          (act): GELU(approximate='none')\n",
      "          (pwconv2): Linear(in_features=3072, out_features=768, bias=True)\n",
      "          (drop_path): Identity()\n",
      "        )\n",
      "        (2): Block(\n",
      "          (dwconv): Conv2d(768, 768, kernel_size=(7, 7), stride=(1, 1), padding=(3, 3), groups=768)\n",
      "          (norm): LayerNorm()\n",
      "          (pwconv1): Linear(in_features=768, out_features=3072, bias=True)\n",
      "          (act): GELU(approximate='none')\n",
      "          (pwconv2): Linear(in_features=3072, out_features=768, bias=True)\n",
      "          (drop_path): Identity()\n",
      "        )\n",
      "      )\n",
      "      (1): Sequential(\n",
      "        (0): Block(\n",
      "          (dwconv): Conv2d(384, 384, kernel_size=(7, 7), stride=(1, 1), padding=(3, 3), groups=384)\n",
      "          (norm): LayerNorm()\n",
      "          (pwconv1): Linear(in_features=384, out_features=1536, bias=True)\n",
      "          (act): GELU(approximate='none')\n",
      "          (pwconv2): Linear(in_features=1536, out_features=384, bias=True)\n",
      "          (drop_path): Identity()\n",
      "        )\n",
      "        (1): Block(\n",
      "          (dwconv): Conv2d(384, 384, kernel_size=(7, 7), stride=(1, 1), padding=(3, 3), groups=384)\n",
      "          (norm): LayerNorm()\n",
      "          (pwconv1): Linear(in_features=384, out_features=1536, bias=True)\n",
      "          (act): GELU(approximate='none')\n",
      "          (pwconv2): Linear(in_features=1536, out_features=384, bias=True)\n",
      "          (drop_path): Identity()\n",
      "        )\n",
      "        (2): Block(\n",
      "          (dwconv): Conv2d(384, 384, kernel_size=(7, 7), stride=(1, 1), padding=(3, 3), groups=384)\n",
      "          (norm): LayerNorm()\n",
      "          (pwconv1): Linear(in_features=384, out_features=1536, bias=True)\n",
      "          (act): GELU(approximate='none')\n",
      "          (pwconv2): Linear(in_features=1536, out_features=384, bias=True)\n",
      "          (drop_path): Identity()\n",
      "        )\n",
      "      )\n",
      "      (2): Sequential(\n",
      "        (0): Block(\n",
      "          (dwconv): Conv2d(192, 192, kernel_size=(7, 7), stride=(1, 1), padding=(3, 3), groups=192)\n",
      "          (norm): LayerNorm()\n",
      "          (pwconv1): Linear(in_features=192, out_features=768, bias=True)\n",
      "          (act): GELU(approximate='none')\n",
      "          (pwconv2): Linear(in_features=768, out_features=192, bias=True)\n",
      "          (drop_path): Identity()\n",
      "        )\n",
      "        (1): Block(\n",
      "          (dwconv): Conv2d(192, 192, kernel_size=(7, 7), stride=(1, 1), padding=(3, 3), groups=192)\n",
      "          (norm): LayerNorm()\n",
      "          (pwconv1): Linear(in_features=192, out_features=768, bias=True)\n",
      "          (act): GELU(approximate='none')\n",
      "          (pwconv2): Linear(in_features=768, out_features=192, bias=True)\n",
      "          (drop_path): Identity()\n",
      "        )\n",
      "        (2): Block(\n",
      "          (dwconv): Conv2d(192, 192, kernel_size=(7, 7), stride=(1, 1), padding=(3, 3), groups=192)\n",
      "          (norm): LayerNorm()\n",
      "          (pwconv1): Linear(in_features=192, out_features=768, bias=True)\n",
      "          (act): GELU(approximate='none')\n",
      "          (pwconv2): Linear(in_features=768, out_features=192, bias=True)\n",
      "          (drop_path): Identity()\n",
      "        )\n",
      "        (3): Block(\n",
      "          (dwconv): Conv2d(192, 192, kernel_size=(7, 7), stride=(1, 1), padding=(3, 3), groups=192)\n",
      "          (norm): LayerNorm()\n",
      "          (pwconv1): Linear(in_features=192, out_features=768, bias=True)\n",
      "          (act): GELU(approximate='none')\n",
      "          (pwconv2): Linear(in_features=768, out_features=192, bias=True)\n",
      "          (drop_path): Identity()\n",
      "        )\n",
      "        (4): Block(\n",
      "          (dwconv): Conv2d(192, 192, kernel_size=(7, 7), stride=(1, 1), padding=(3, 3), groups=192)\n",
      "          (norm): LayerNorm()\n",
      "          (pwconv1): Linear(in_features=192, out_features=768, bias=True)\n",
      "          (act): GELU(approximate='none')\n",
      "          (pwconv2): Linear(in_features=768, out_features=192, bias=True)\n",
      "          (drop_path): Identity()\n",
      "        )\n",
      "        (5): Block(\n",
      "          (dwconv): Conv2d(192, 192, kernel_size=(7, 7), stride=(1, 1), padding=(3, 3), groups=192)\n",
      "          (norm): LayerNorm()\n",
      "          (pwconv1): Linear(in_features=192, out_features=768, bias=True)\n",
      "          (act): GELU(approximate='none')\n",
      "          (pwconv2): Linear(in_features=768, out_features=192, bias=True)\n",
      "          (drop_path): Identity()\n",
      "        )\n",
      "        (6): Block(\n",
      "          (dwconv): Conv2d(192, 192, kernel_size=(7, 7), stride=(1, 1), padding=(3, 3), groups=192)\n",
      "          (norm): LayerNorm()\n",
      "          (pwconv1): Linear(in_features=192, out_features=768, bias=True)\n",
      "          (act): GELU(approximate='none')\n",
      "          (pwconv2): Linear(in_features=768, out_features=192, bias=True)\n",
      "          (drop_path): Identity()\n",
      "        )\n",
      "        (7): Block(\n",
      "          (dwconv): Conv2d(192, 192, kernel_size=(7, 7), stride=(1, 1), padding=(3, 3), groups=192)\n",
      "          (norm): LayerNorm()\n",
      "          (pwconv1): Linear(in_features=192, out_features=768, bias=True)\n",
      "          (act): GELU(approximate='none')\n",
      "          (pwconv2): Linear(in_features=768, out_features=192, bias=True)\n",
      "          (drop_path): Identity()\n",
      "        )\n",
      "        (8): Block(\n",
      "          (dwconv): Conv2d(192, 192, kernel_size=(7, 7), stride=(1, 1), padding=(3, 3), groups=192)\n",
      "          (norm): LayerNorm()\n",
      "          (pwconv1): Linear(in_features=192, out_features=768, bias=True)\n",
      "          (act): GELU(approximate='none')\n",
      "          (pwconv2): Linear(in_features=768, out_features=192, bias=True)\n",
      "          (drop_path): Identity()\n",
      "        )\n",
      "      )\n",
      "      (3): Sequential(\n",
      "        (0): Block(\n",
      "          (dwconv): Conv2d(96, 96, kernel_size=(7, 7), stride=(1, 1), padding=(3, 3), groups=96)\n",
      "          (norm): LayerNorm()\n",
      "          (pwconv1): Linear(in_features=96, out_features=384, bias=True)\n",
      "          (act): GELU(approximate='none')\n",
      "          (pwconv2): Linear(in_features=384, out_features=96, bias=True)\n",
      "          (drop_path): Identity()\n",
      "        )\n",
      "        (1): Block(\n",
      "          (dwconv): Conv2d(96, 96, kernel_size=(7, 7), stride=(1, 1), padding=(3, 3), groups=96)\n",
      "          (norm): LayerNorm()\n",
      "          (pwconv1): Linear(in_features=96, out_features=384, bias=True)\n",
      "          (act): GELU(approximate='none')\n",
      "          (pwconv2): Linear(in_features=384, out_features=96, bias=True)\n",
      "          (drop_path): Identity()\n",
      "        )\n",
      "        (2): Block(\n",
      "          (dwconv): Conv2d(96, 96, kernel_size=(7, 7), stride=(1, 1), padding=(3, 3), groups=96)\n",
      "          (norm): LayerNorm()\n",
      "          (pwconv1): Linear(in_features=96, out_features=384, bias=True)\n",
      "          (act): GELU(approximate='none')\n",
      "          (pwconv2): Linear(in_features=384, out_features=96, bias=True)\n",
      "          (drop_path): Identity()\n",
      "        )\n",
      "      )\n",
      "    )\n",
      "    (norm): LayerNorm((96,), eps=1e-06, elementwise_affine=True)\n",
      "  )\n",
      "  (pool_fc): Linear(in_features=768, out_features=512, bias=True)\n",
      "  (de_fc1): Linear(in_features=512, out_features=768, bias=True)\n",
      ")\n",
      "number of params: 51110001\n",
      "LR = 0.00400000\n",
      "Batch size = 64\n",
      "Update frequent = 1\n",
      "Number of training examples = 45036\n",
      "Number of training training per epoch = 703\n",
      "> \u001b[0;32m/dli/nvidia-scripts/nv-scripts-Jun18/optim_factory.py\u001b[0m(114)\u001b[0;36mcreate_optimizer\u001b[0;34m()\u001b[0m\n",
      "\u001b[0;32m    112 \u001b[0;31m    \u001b[0mpdb\u001b[0m\u001b[0;34m.\u001b[0m\u001b[0mset_trace\u001b[0m\u001b[0;34m(\u001b[0m\u001b[0;34m)\u001b[0m\u001b[0;34m\u001b[0m\u001b[0;34m\u001b[0m\u001b[0m\n",
      "\u001b[0m\u001b[0;32m    113 \u001b[0;31m    \u001b[0;31m# if weight_decay and filter_bias_and_bn:\u001b[0m\u001b[0;34m\u001b[0m\u001b[0;34m\u001b[0m\u001b[0;34m\u001b[0m\u001b[0m\n",
      "\u001b[0m\u001b[0;32m--> 114 \u001b[0;31m    \u001b[0;32mif\u001b[0m \u001b[0mfilter_bias_and_bn\u001b[0m\u001b[0;34m:\u001b[0m\u001b[0;34m\u001b[0m\u001b[0;34m\u001b[0m\u001b[0m\n",
      "\u001b[0m\u001b[0;32m    115 \u001b[0;31m        \u001b[0mskip\u001b[0m \u001b[0;34m=\u001b[0m \u001b[0;34m{\u001b[0m\u001b[0;34m}\u001b[0m\u001b[0;34m\u001b[0m\u001b[0;34m\u001b[0m\u001b[0m\n",
      "\u001b[0m\u001b[0;32m    116 \u001b[0;31m        \u001b[0;32mif\u001b[0m \u001b[0mskip_list\u001b[0m \u001b[0;32mis\u001b[0m \u001b[0;32mnot\u001b[0m \u001b[0;32mNone\u001b[0m\u001b[0;34m:\u001b[0m\u001b[0;34m\u001b[0m\u001b[0;34m\u001b[0m\u001b[0m\n",
      "\u001b[0m\n"
     ]
    },
    {
     "name": "stdin",
     "output_type": "stream",
     "text": [
      "ipdb>  c\n"
     ]
    },
    {
     "name": "stdout",
     "output_type": "stream",
     "text": [
      "> \u001b[0;32m/dli/nvidia-scripts/nv-scripts-Jun18/optim_factory.py\u001b[0m(71)\u001b[0;36mget_parameter_groups\u001b[0;34m()\u001b[0m\n",
      "\u001b[0;32m     69 \u001b[0;31m    \u001b[0mpdb\u001b[0m\u001b[0;34m.\u001b[0m\u001b[0mset_trace\u001b[0m\u001b[0;34m(\u001b[0m\u001b[0;34m)\u001b[0m\u001b[0;34m\u001b[0m\u001b[0;34m\u001b[0m\u001b[0m\n",
      "\u001b[0m\u001b[0;32m     70 \u001b[0;31m\u001b[0;34m\u001b[0m\u001b[0m\n",
      "\u001b[0m\u001b[0;32m---> 71 \u001b[0;31m    \u001b[0;32mfor\u001b[0m \u001b[0mname\u001b[0m\u001b[0;34m,\u001b[0m \u001b[0mparam\u001b[0m \u001b[0;32min\u001b[0m \u001b[0mmodel\u001b[0m\u001b[0;34m.\u001b[0m\u001b[0mnamed_parameters\u001b[0m\u001b[0;34m(\u001b[0m\u001b[0;34m)\u001b[0m\u001b[0;34m:\u001b[0m\u001b[0;34m\u001b[0m\u001b[0;34m\u001b[0m\u001b[0m\n",
      "\u001b[0m\u001b[0;32m     72 \u001b[0;31m        \u001b[0;32mif\u001b[0m \u001b[0;32mnot\u001b[0m \u001b[0mparam\u001b[0m\u001b[0;34m.\u001b[0m\u001b[0mrequires_grad\u001b[0m\u001b[0;34m:\u001b[0m\u001b[0;34m\u001b[0m\u001b[0;34m\u001b[0m\u001b[0m\n",
      "\u001b[0m\u001b[0;32m     73 \u001b[0;31m            \u001b[0;32mcontinue\u001b[0m  \u001b[0;31m# frozen weights\u001b[0m\u001b[0;34m\u001b[0m\u001b[0;34m\u001b[0m\u001b[0m\n",
      "\u001b[0m\n"
     ]
    },
    {
     "name": "stdin",
     "output_type": "stream",
     "text": [
      "ipdb>  len(model.named_parameters())\n"
     ]
    },
    {
     "name": "stdout",
     "output_type": "stream",
     "text": [
      "*** TypeError: object of type 'generator' has no len()\n"
     ]
    },
    {
     "name": "stdin",
     "output_type": "stream",
     "text": [
      "ipdb>  n\n"
     ]
    },
    {
     "name": "stdout",
     "output_type": "stream",
     "text": [
      "> \u001b[0;32m/dli/nvidia-scripts/nv-scripts-Jun18/optim_factory.py\u001b[0m(72)\u001b[0;36mget_parameter_groups\u001b[0;34m()\u001b[0m\n",
      "\u001b[0;32m     70 \u001b[0;31m\u001b[0;34m\u001b[0m\u001b[0m\n",
      "\u001b[0m\u001b[0;32m     71 \u001b[0;31m    \u001b[0;32mfor\u001b[0m \u001b[0mname\u001b[0m\u001b[0;34m,\u001b[0m \u001b[0mparam\u001b[0m \u001b[0;32min\u001b[0m \u001b[0mmodel\u001b[0m\u001b[0;34m.\u001b[0m\u001b[0mnamed_parameters\u001b[0m\u001b[0;34m(\u001b[0m\u001b[0;34m)\u001b[0m\u001b[0;34m:\u001b[0m\u001b[0;34m\u001b[0m\u001b[0;34m\u001b[0m\u001b[0m\n",
      "\u001b[0m\u001b[0;32m---> 72 \u001b[0;31m        \u001b[0;32mif\u001b[0m \u001b[0;32mnot\u001b[0m \u001b[0mparam\u001b[0m\u001b[0;34m.\u001b[0m\u001b[0mrequires_grad\u001b[0m\u001b[0;34m:\u001b[0m\u001b[0;34m\u001b[0m\u001b[0;34m\u001b[0m\u001b[0m\n",
      "\u001b[0m\u001b[0;32m     73 \u001b[0;31m            \u001b[0;32mcontinue\u001b[0m  \u001b[0;31m# frozen weights\u001b[0m\u001b[0;34m\u001b[0m\u001b[0;34m\u001b[0m\u001b[0m\n",
      "\u001b[0m\u001b[0;32m     74 \u001b[0;31m        \u001b[0;32mif\u001b[0m \u001b[0mlen\u001b[0m\u001b[0;34m(\u001b[0m\u001b[0mparam\u001b[0m\u001b[0;34m.\u001b[0m\u001b[0mshape\u001b[0m\u001b[0;34m)\u001b[0m \u001b[0;34m==\u001b[0m \u001b[0;36m1\u001b[0m \u001b[0;32mor\u001b[0m \u001b[0mname\u001b[0m\u001b[0;34m.\u001b[0m\u001b[0mendswith\u001b[0m\u001b[0;34m(\u001b[0m\u001b[0;34m\".bias\"\u001b[0m\u001b[0;34m)\u001b[0m \u001b[0;32mor\u001b[0m \u001b[0mname\u001b[0m \u001b[0;32min\u001b[0m \u001b[0mskip_list\u001b[0m\u001b[0;34m:\u001b[0m\u001b[0;34m\u001b[0m\u001b[0;34m\u001b[0m\u001b[0m\n",
      "\u001b[0m\n"
     ]
    },
    {
     "name": "stdin",
     "output_type": "stream",
     "text": [
      "ipdb>  p name\n"
     ]
    },
    {
     "name": "stdout",
     "output_type": "stream",
     "text": [
      "'encoder.downsample_layers.0.0.weight'\n"
     ]
    },
    {
     "name": "stdin",
     "output_type": "stream",
     "text": [
      "ipdb>  n\n"
     ]
    },
    {
     "name": "stdout",
     "output_type": "stream",
     "text": [
      "> \u001b[0;32m/dli/nvidia-scripts/nv-scripts-Jun18/optim_factory.py\u001b[0m(74)\u001b[0;36mget_parameter_groups\u001b[0;34m()\u001b[0m\n",
      "\u001b[0;32m     72 \u001b[0;31m        \u001b[0;32mif\u001b[0m \u001b[0;32mnot\u001b[0m \u001b[0mparam\u001b[0m\u001b[0;34m.\u001b[0m\u001b[0mrequires_grad\u001b[0m\u001b[0;34m:\u001b[0m\u001b[0;34m\u001b[0m\u001b[0;34m\u001b[0m\u001b[0m\n",
      "\u001b[0m\u001b[0;32m     73 \u001b[0;31m            \u001b[0;32mcontinue\u001b[0m  \u001b[0;31m# frozen weights\u001b[0m\u001b[0;34m\u001b[0m\u001b[0;34m\u001b[0m\u001b[0m\n",
      "\u001b[0m\u001b[0;32m---> 74 \u001b[0;31m        \u001b[0;32mif\u001b[0m \u001b[0mlen\u001b[0m\u001b[0;34m(\u001b[0m\u001b[0mparam\u001b[0m\u001b[0;34m.\u001b[0m\u001b[0mshape\u001b[0m\u001b[0;34m)\u001b[0m \u001b[0;34m==\u001b[0m \u001b[0;36m1\u001b[0m \u001b[0;32mor\u001b[0m \u001b[0mname\u001b[0m\u001b[0;34m.\u001b[0m\u001b[0mendswith\u001b[0m\u001b[0;34m(\u001b[0m\u001b[0;34m\".bias\"\u001b[0m\u001b[0;34m)\u001b[0m \u001b[0;32mor\u001b[0m \u001b[0mname\u001b[0m \u001b[0;32min\u001b[0m \u001b[0mskip_list\u001b[0m\u001b[0;34m:\u001b[0m\u001b[0;34m\u001b[0m\u001b[0;34m\u001b[0m\u001b[0m\n",
      "\u001b[0m\u001b[0;32m     75 \u001b[0;31m            \u001b[0mgroup_name\u001b[0m \u001b[0;34m=\u001b[0m \u001b[0;34m\"no_decay\"\u001b[0m\u001b[0;34m\u001b[0m\u001b[0;34m\u001b[0m\u001b[0m\n",
      "\u001b[0m\u001b[0;32m     76 \u001b[0;31m            \u001b[0mthis_weight_decay\u001b[0m \u001b[0;34m=\u001b[0m \u001b[0;36m0.\u001b[0m\u001b[0;34m\u001b[0m\u001b[0;34m\u001b[0m\u001b[0m\n",
      "\u001b[0m\n"
     ]
    },
    {
     "name": "stdin",
     "output_type": "stream",
     "text": [
      "ipdb>  n\n"
     ]
    },
    {
     "name": "stdout",
     "output_type": "stream",
     "text": [
      "> \u001b[0;32m/dli/nvidia-scripts/nv-scripts-Jun18/optim_factory.py\u001b[0m(78)\u001b[0;36mget_parameter_groups\u001b[0;34m()\u001b[0m\n",
      "\u001b[0;32m     76 \u001b[0;31m            \u001b[0mthis_weight_decay\u001b[0m \u001b[0;34m=\u001b[0m \u001b[0;36m0.\u001b[0m\u001b[0;34m\u001b[0m\u001b[0;34m\u001b[0m\u001b[0m\n",
      "\u001b[0m\u001b[0;32m     77 \u001b[0;31m        \u001b[0;32melse\u001b[0m\u001b[0;34m:\u001b[0m\u001b[0;34m\u001b[0m\u001b[0;34m\u001b[0m\u001b[0m\n",
      "\u001b[0m\u001b[0;32m---> 78 \u001b[0;31m            \u001b[0mgroup_name\u001b[0m \u001b[0;34m=\u001b[0m \u001b[0;34m\"decay\"\u001b[0m\u001b[0;34m\u001b[0m\u001b[0;34m\u001b[0m\u001b[0m\n",
      "\u001b[0m\u001b[0;32m     79 \u001b[0;31m            \u001b[0mthis_weight_decay\u001b[0m \u001b[0;34m=\u001b[0m \u001b[0mweight_decay\u001b[0m\u001b[0;34m\u001b[0m\u001b[0;34m\u001b[0m\u001b[0m\n",
      "\u001b[0m\u001b[0;32m     80 \u001b[0;31m        \u001b[0;32mif\u001b[0m \u001b[0mget_num_layer\u001b[0m \u001b[0;32mis\u001b[0m \u001b[0;32mnot\u001b[0m \u001b[0;32mNone\u001b[0m\u001b[0;34m:\u001b[0m\u001b[0;34m\u001b[0m\u001b[0;34m\u001b[0m\u001b[0m\n",
      "\u001b[0m\n"
     ]
    },
    {
     "name": "stdin",
     "output_type": "stream",
     "text": [
      "ipdb>  n\n"
     ]
    },
    {
     "name": "stdout",
     "output_type": "stream",
     "text": [
      "> \u001b[0;32m/dli/nvidia-scripts/nv-scripts-Jun18/optim_factory.py\u001b[0m(79)\u001b[0;36mget_parameter_groups\u001b[0;34m()\u001b[0m\n",
      "\u001b[0;32m     77 \u001b[0;31m        \u001b[0;32melse\u001b[0m\u001b[0;34m:\u001b[0m\u001b[0;34m\u001b[0m\u001b[0;34m\u001b[0m\u001b[0m\n",
      "\u001b[0m\u001b[0;32m     78 \u001b[0;31m            \u001b[0mgroup_name\u001b[0m \u001b[0;34m=\u001b[0m \u001b[0;34m\"decay\"\u001b[0m\u001b[0;34m\u001b[0m\u001b[0;34m\u001b[0m\u001b[0m\n",
      "\u001b[0m\u001b[0;32m---> 79 \u001b[0;31m            \u001b[0mthis_weight_decay\u001b[0m \u001b[0;34m=\u001b[0m \u001b[0mweight_decay\u001b[0m\u001b[0;34m\u001b[0m\u001b[0;34m\u001b[0m\u001b[0m\n",
      "\u001b[0m\u001b[0;32m     80 \u001b[0;31m        \u001b[0;32mif\u001b[0m \u001b[0mget_num_layer\u001b[0m \u001b[0;32mis\u001b[0m \u001b[0;32mnot\u001b[0m \u001b[0;32mNone\u001b[0m\u001b[0;34m:\u001b[0m\u001b[0;34m\u001b[0m\u001b[0;34m\u001b[0m\u001b[0m\n",
      "\u001b[0m\u001b[0;32m     81 \u001b[0;31m            \u001b[0mlayer_id\u001b[0m \u001b[0;34m=\u001b[0m \u001b[0mget_num_layer\u001b[0m\u001b[0;34m(\u001b[0m\u001b[0mname\u001b[0m\u001b[0;34m)\u001b[0m\u001b[0;34m\u001b[0m\u001b[0;34m\u001b[0m\u001b[0m\n",
      "\u001b[0m\n"
     ]
    },
    {
     "name": "stdin",
     "output_type": "stream",
     "text": [
      "ipdb>  p weight_decay\n"
     ]
    },
    {
     "name": "stdout",
     "output_type": "stream",
     "text": [
      "0.05\n"
     ]
    },
    {
     "name": "stdin",
     "output_type": "stream",
     "text": [
      "ipdb>  n\n"
     ]
    },
    {
     "name": "stdout",
     "output_type": "stream",
     "text": [
      "> \u001b[0;32m/dli/nvidia-scripts/nv-scripts-Jun18/optim_factory.py\u001b[0m(80)\u001b[0;36mget_parameter_groups\u001b[0;34m()\u001b[0m\n",
      "\u001b[0;32m     78 \u001b[0;31m            \u001b[0mgroup_name\u001b[0m \u001b[0;34m=\u001b[0m \u001b[0;34m\"decay\"\u001b[0m\u001b[0;34m\u001b[0m\u001b[0;34m\u001b[0m\u001b[0m\n",
      "\u001b[0m\u001b[0;32m     79 \u001b[0;31m            \u001b[0mthis_weight_decay\u001b[0m \u001b[0;34m=\u001b[0m \u001b[0mweight_decay\u001b[0m\u001b[0;34m\u001b[0m\u001b[0;34m\u001b[0m\u001b[0m\n",
      "\u001b[0m\u001b[0;32m---> 80 \u001b[0;31m        \u001b[0;32mif\u001b[0m \u001b[0mget_num_layer\u001b[0m \u001b[0;32mis\u001b[0m \u001b[0;32mnot\u001b[0m \u001b[0;32mNone\u001b[0m\u001b[0;34m:\u001b[0m\u001b[0;34m\u001b[0m\u001b[0;34m\u001b[0m\u001b[0m\n",
      "\u001b[0m\u001b[0;32m     81 \u001b[0;31m            \u001b[0mlayer_id\u001b[0m \u001b[0;34m=\u001b[0m \u001b[0mget_num_layer\u001b[0m\u001b[0;34m(\u001b[0m\u001b[0mname\u001b[0m\u001b[0;34m)\u001b[0m\u001b[0;34m\u001b[0m\u001b[0;34m\u001b[0m\u001b[0m\n",
      "\u001b[0m\u001b[0;32m     82 \u001b[0;31m            \u001b[0mgroup_name\u001b[0m \u001b[0;34m=\u001b[0m \u001b[0;34m\"layer_%d_%s\"\u001b[0m \u001b[0;34m%\u001b[0m \u001b[0;34m(\u001b[0m\u001b[0mlayer_id\u001b[0m\u001b[0;34m,\u001b[0m \u001b[0mgroup_name\u001b[0m\u001b[0;34m)\u001b[0m\u001b[0;34m\u001b[0m\u001b[0;34m\u001b[0m\u001b[0m\n",
      "\u001b[0m\n"
     ]
    },
    {
     "name": "stdin",
     "output_type": "stream",
     "text": [
      "ipdb>  n\n"
     ]
    },
    {
     "name": "stdout",
     "output_type": "stream",
     "text": [
      "> \u001b[0;32m/dli/nvidia-scripts/nv-scripts-Jun18/optim_factory.py\u001b[0m(84)\u001b[0;36mget_parameter_groups\u001b[0;34m()\u001b[0m\n",
      "\u001b[0;32m     82 \u001b[0;31m            \u001b[0mgroup_name\u001b[0m \u001b[0;34m=\u001b[0m \u001b[0;34m\"layer_%d_%s\"\u001b[0m \u001b[0;34m%\u001b[0m \u001b[0;34m(\u001b[0m\u001b[0mlayer_id\u001b[0m\u001b[0;34m,\u001b[0m \u001b[0mgroup_name\u001b[0m\u001b[0;34m)\u001b[0m\u001b[0;34m\u001b[0m\u001b[0;34m\u001b[0m\u001b[0m\n",
      "\u001b[0m\u001b[0;32m     83 \u001b[0;31m        \u001b[0;32melse\u001b[0m\u001b[0;34m:\u001b[0m\u001b[0;34m\u001b[0m\u001b[0;34m\u001b[0m\u001b[0m\n",
      "\u001b[0m\u001b[0;32m---> 84 \u001b[0;31m            \u001b[0mlayer_id\u001b[0m \u001b[0;34m=\u001b[0m \u001b[0;32mNone\u001b[0m\u001b[0;34m\u001b[0m\u001b[0;34m\u001b[0m\u001b[0m\n",
      "\u001b[0m\u001b[0;32m     85 \u001b[0;31m\u001b[0;34m\u001b[0m\u001b[0m\n",
      "\u001b[0m\u001b[0;32m     86 \u001b[0;31m        \u001b[0;32mif\u001b[0m \u001b[0mgroup_name\u001b[0m \u001b[0;32mnot\u001b[0m \u001b[0;32min\u001b[0m \u001b[0mparameter_group_names\u001b[0m\u001b[0;34m:\u001b[0m\u001b[0;34m\u001b[0m\u001b[0;34m\u001b[0m\u001b[0m\n",
      "\u001b[0m\n"
     ]
    },
    {
     "name": "stdin",
     "output_type": "stream",
     "text": [
      "ipdb>  n\n"
     ]
    },
    {
     "name": "stdout",
     "output_type": "stream",
     "text": [
      "> \u001b[0;32m/dli/nvidia-scripts/nv-scripts-Jun18/optim_factory.py\u001b[0m(86)\u001b[0;36mget_parameter_groups\u001b[0;34m()\u001b[0m\n",
      "\u001b[0;32m     84 \u001b[0;31m            \u001b[0mlayer_id\u001b[0m \u001b[0;34m=\u001b[0m \u001b[0;32mNone\u001b[0m\u001b[0;34m\u001b[0m\u001b[0;34m\u001b[0m\u001b[0m\n",
      "\u001b[0m\u001b[0;32m     85 \u001b[0;31m\u001b[0;34m\u001b[0m\u001b[0m\n",
      "\u001b[0m\u001b[0;32m---> 86 \u001b[0;31m        \u001b[0;32mif\u001b[0m \u001b[0mgroup_name\u001b[0m \u001b[0;32mnot\u001b[0m \u001b[0;32min\u001b[0m \u001b[0mparameter_group_names\u001b[0m\u001b[0;34m:\u001b[0m\u001b[0;34m\u001b[0m\u001b[0;34m\u001b[0m\u001b[0m\n",
      "\u001b[0m\u001b[0;32m     87 \u001b[0;31m            \u001b[0;32mif\u001b[0m \u001b[0mget_layer_scale\u001b[0m \u001b[0;32mis\u001b[0m \u001b[0;32mnot\u001b[0m \u001b[0;32mNone\u001b[0m\u001b[0;34m:\u001b[0m\u001b[0;34m\u001b[0m\u001b[0;34m\u001b[0m\u001b[0m\n",
      "\u001b[0m\u001b[0;32m     88 \u001b[0;31m                \u001b[0mscale\u001b[0m \u001b[0;34m=\u001b[0m \u001b[0mget_layer_scale\u001b[0m\u001b[0;34m(\u001b[0m\u001b[0mlayer_id\u001b[0m\u001b[0;34m)\u001b[0m\u001b[0;34m\u001b[0m\u001b[0;34m\u001b[0m\u001b[0m\n",
      "\u001b[0m\n"
     ]
    },
    {
     "name": "stdin",
     "output_type": "stream",
     "text": [
      "ipdb>  n\n"
     ]
    },
    {
     "name": "stdout",
     "output_type": "stream",
     "text": [
      "> \u001b[0;32m/dli/nvidia-scripts/nv-scripts-Jun18/optim_factory.py\u001b[0m(87)\u001b[0;36mget_parameter_groups\u001b[0;34m()\u001b[0m\n",
      "\u001b[0;32m     85 \u001b[0;31m\u001b[0;34m\u001b[0m\u001b[0m\n",
      "\u001b[0m\u001b[0;32m     86 \u001b[0;31m        \u001b[0;32mif\u001b[0m \u001b[0mgroup_name\u001b[0m \u001b[0;32mnot\u001b[0m \u001b[0;32min\u001b[0m \u001b[0mparameter_group_names\u001b[0m\u001b[0;34m:\u001b[0m\u001b[0;34m\u001b[0m\u001b[0;34m\u001b[0m\u001b[0m\n",
      "\u001b[0m\u001b[0;32m---> 87 \u001b[0;31m            \u001b[0;32mif\u001b[0m \u001b[0mget_layer_scale\u001b[0m \u001b[0;32mis\u001b[0m \u001b[0;32mnot\u001b[0m \u001b[0;32mNone\u001b[0m\u001b[0;34m:\u001b[0m\u001b[0;34m\u001b[0m\u001b[0;34m\u001b[0m\u001b[0m\n",
      "\u001b[0m\u001b[0;32m     88 \u001b[0;31m                \u001b[0mscale\u001b[0m \u001b[0;34m=\u001b[0m \u001b[0mget_layer_scale\u001b[0m\u001b[0;34m(\u001b[0m\u001b[0mlayer_id\u001b[0m\u001b[0;34m)\u001b[0m\u001b[0;34m\u001b[0m\u001b[0;34m\u001b[0m\u001b[0m\n",
      "\u001b[0m\u001b[0;32m     89 \u001b[0;31m            \u001b[0;32melse\u001b[0m\u001b[0;34m:\u001b[0m\u001b[0;34m\u001b[0m\u001b[0;34m\u001b[0m\u001b[0m\n",
      "\u001b[0m\n"
     ]
    },
    {
     "name": "stdin",
     "output_type": "stream",
     "text": [
      "ipdb>  n\n"
     ]
    },
    {
     "name": "stdout",
     "output_type": "stream",
     "text": [
      "> \u001b[0;32m/dli/nvidia-scripts/nv-scripts-Jun18/optim_factory.py\u001b[0m(90)\u001b[0;36mget_parameter_groups\u001b[0;34m()\u001b[0m\n",
      "\u001b[0;32m     88 \u001b[0;31m                \u001b[0mscale\u001b[0m \u001b[0;34m=\u001b[0m \u001b[0mget_layer_scale\u001b[0m\u001b[0;34m(\u001b[0m\u001b[0mlayer_id\u001b[0m\u001b[0;34m)\u001b[0m\u001b[0;34m\u001b[0m\u001b[0;34m\u001b[0m\u001b[0m\n",
      "\u001b[0m\u001b[0;32m     89 \u001b[0;31m            \u001b[0;32melse\u001b[0m\u001b[0;34m:\u001b[0m\u001b[0;34m\u001b[0m\u001b[0;34m\u001b[0m\u001b[0m\n",
      "\u001b[0m\u001b[0;32m---> 90 \u001b[0;31m                \u001b[0mscale\u001b[0m \u001b[0;34m=\u001b[0m \u001b[0;36m1.\u001b[0m\u001b[0;34m\u001b[0m\u001b[0;34m\u001b[0m\u001b[0m\n",
      "\u001b[0m\u001b[0;32m     91 \u001b[0;31m\u001b[0;34m\u001b[0m\u001b[0m\n",
      "\u001b[0m\u001b[0;32m     92 \u001b[0;31m            parameter_group_names[group_name] = {\n",
      "\u001b[0m\n"
     ]
    },
    {
     "name": "stdin",
     "output_type": "stream",
     "text": [
      "ipdb>  n\n"
     ]
    },
    {
     "name": "stdout",
     "output_type": "stream",
     "text": [
      "> \u001b[0;32m/dli/nvidia-scripts/nv-scripts-Jun18/optim_factory.py\u001b[0m(93)\u001b[0;36mget_parameter_groups\u001b[0;34m()\u001b[0m\n",
      "\u001b[0;32m     91 \u001b[0;31m\u001b[0;34m\u001b[0m\u001b[0m\n",
      "\u001b[0m\u001b[0;32m     92 \u001b[0;31m            parameter_group_names[group_name] = {\n",
      "\u001b[0m\u001b[0;32m---> 93 \u001b[0;31m                \u001b[0;34m\"weight_decay\"\u001b[0m\u001b[0;34m:\u001b[0m \u001b[0mthis_weight_decay\u001b[0m\u001b[0;34m,\u001b[0m\u001b[0;34m\u001b[0m\u001b[0;34m\u001b[0m\u001b[0m\n",
      "\u001b[0m\u001b[0;32m     94 \u001b[0;31m                \u001b[0;34m\"params\"\u001b[0m\u001b[0;34m:\u001b[0m \u001b[0;34m[\u001b[0m\u001b[0;34m]\u001b[0m\u001b[0;34m,\u001b[0m\u001b[0;34m\u001b[0m\u001b[0;34m\u001b[0m\u001b[0m\n",
      "\u001b[0m\u001b[0;32m     95 \u001b[0;31m                \u001b[0;34m\"lr_scale\"\u001b[0m\u001b[0;34m:\u001b[0m \u001b[0mscale\u001b[0m\u001b[0;34m\u001b[0m\u001b[0;34m\u001b[0m\u001b[0m\n",
      "\u001b[0m\n"
     ]
    },
    {
     "name": "stdin",
     "output_type": "stream",
     "text": [
      "ipdb>  n\n"
     ]
    },
    {
     "name": "stdout",
     "output_type": "stream",
     "text": [
      "> \u001b[0;32m/dli/nvidia-scripts/nv-scripts-Jun18/optim_factory.py\u001b[0m(94)\u001b[0;36mget_parameter_groups\u001b[0;34m()\u001b[0m\n",
      "\u001b[0;32m     92 \u001b[0;31m            parameter_group_names[group_name] = {\n",
      "\u001b[0m\u001b[0;32m     93 \u001b[0;31m                \u001b[0;34m\"weight_decay\"\u001b[0m\u001b[0;34m:\u001b[0m \u001b[0mthis_weight_decay\u001b[0m\u001b[0;34m,\u001b[0m\u001b[0;34m\u001b[0m\u001b[0;34m\u001b[0m\u001b[0m\n",
      "\u001b[0m\u001b[0;32m---> 94 \u001b[0;31m                \u001b[0;34m\"params\"\u001b[0m\u001b[0;34m:\u001b[0m \u001b[0;34m[\u001b[0m\u001b[0;34m]\u001b[0m\u001b[0;34m,\u001b[0m\u001b[0;34m\u001b[0m\u001b[0;34m\u001b[0m\u001b[0m\n",
      "\u001b[0m\u001b[0;32m     95 \u001b[0;31m                \u001b[0;34m\"lr_scale\"\u001b[0m\u001b[0;34m:\u001b[0m \u001b[0mscale\u001b[0m\u001b[0;34m\u001b[0m\u001b[0;34m\u001b[0m\u001b[0m\n",
      "\u001b[0m\u001b[0;32m     96 \u001b[0;31m            }\n",
      "\u001b[0m\n"
     ]
    },
    {
     "name": "stdin",
     "output_type": "stream",
     "text": [
      "ipdb>  n\n"
     ]
    },
    {
     "name": "stdout",
     "output_type": "stream",
     "text": [
      "> \u001b[0;32m/dli/nvidia-scripts/nv-scripts-Jun18/optim_factory.py\u001b[0m(95)\u001b[0;36mget_parameter_groups\u001b[0;34m()\u001b[0m\n",
      "\u001b[0;32m     93 \u001b[0;31m                \u001b[0;34m\"weight_decay\"\u001b[0m\u001b[0;34m:\u001b[0m \u001b[0mthis_weight_decay\u001b[0m\u001b[0;34m,\u001b[0m\u001b[0;34m\u001b[0m\u001b[0;34m\u001b[0m\u001b[0m\n",
      "\u001b[0m\u001b[0;32m     94 \u001b[0;31m                \u001b[0;34m\"params\"\u001b[0m\u001b[0;34m:\u001b[0m \u001b[0;34m[\u001b[0m\u001b[0;34m]\u001b[0m\u001b[0;34m,\u001b[0m\u001b[0;34m\u001b[0m\u001b[0;34m\u001b[0m\u001b[0m\n",
      "\u001b[0m\u001b[0;32m---> 95 \u001b[0;31m                \u001b[0;34m\"lr_scale\"\u001b[0m\u001b[0;34m:\u001b[0m \u001b[0mscale\u001b[0m\u001b[0;34m\u001b[0m\u001b[0;34m\u001b[0m\u001b[0m\n",
      "\u001b[0m\u001b[0;32m     96 \u001b[0;31m            }\n",
      "\u001b[0m\u001b[0;32m     97 \u001b[0;31m            parameter_group_vars[group_name] = {\n",
      "\u001b[0m\n"
     ]
    },
    {
     "name": "stdin",
     "output_type": "stream",
     "text": [
      "ipdb>  n\n"
     ]
    },
    {
     "name": "stdout",
     "output_type": "stream",
     "text": [
      "> \u001b[0;32m/dli/nvidia-scripts/nv-scripts-Jun18/optim_factory.py\u001b[0m(92)\u001b[0;36mget_parameter_groups\u001b[0;34m()\u001b[0m\n",
      "\u001b[0;32m     90 \u001b[0;31m                \u001b[0mscale\u001b[0m \u001b[0;34m=\u001b[0m \u001b[0;36m1.\u001b[0m\u001b[0;34m\u001b[0m\u001b[0;34m\u001b[0m\u001b[0m\n",
      "\u001b[0m\u001b[0;32m     91 \u001b[0;31m\u001b[0;34m\u001b[0m\u001b[0m\n",
      "\u001b[0m\u001b[0;32m---> 92 \u001b[0;31m            parameter_group_names[group_name] = {\n",
      "\u001b[0m\u001b[0;32m     93 \u001b[0;31m                \u001b[0;34m\"weight_decay\"\u001b[0m\u001b[0;34m:\u001b[0m \u001b[0mthis_weight_decay\u001b[0m\u001b[0;34m,\u001b[0m\u001b[0;34m\u001b[0m\u001b[0;34m\u001b[0m\u001b[0m\n",
      "\u001b[0m\u001b[0;32m     94 \u001b[0;31m                \u001b[0;34m\"params\"\u001b[0m\u001b[0;34m:\u001b[0m \u001b[0;34m[\u001b[0m\u001b[0;34m]\u001b[0m\u001b[0;34m,\u001b[0m\u001b[0;34m\u001b[0m\u001b[0;34m\u001b[0m\u001b[0m\n",
      "\u001b[0m\n"
     ]
    },
    {
     "name": "stdin",
     "output_type": "stream",
     "text": [
      "ipdb>  \n"
     ]
    },
    {
     "name": "stdout",
     "output_type": "stream",
     "text": [
      "> \u001b[0;32m/dli/nvidia-scripts/nv-scripts-Jun18/optim_factory.py\u001b[0m(98)\u001b[0;36mget_parameter_groups\u001b[0;34m()\u001b[0m\n",
      "\u001b[0;32m     96 \u001b[0;31m            }\n",
      "\u001b[0m\u001b[0;32m     97 \u001b[0;31m            parameter_group_vars[group_name] = {\n",
      "\u001b[0m\u001b[0;32m---> 98 \u001b[0;31m                \u001b[0;34m\"weight_decay\"\u001b[0m\u001b[0;34m:\u001b[0m \u001b[0mthis_weight_decay\u001b[0m\u001b[0;34m,\u001b[0m\u001b[0;34m\u001b[0m\u001b[0;34m\u001b[0m\u001b[0m\n",
      "\u001b[0m\u001b[0;32m     99 \u001b[0;31m                \u001b[0;34m\"params\"\u001b[0m\u001b[0;34m:\u001b[0m \u001b[0;34m[\u001b[0m\u001b[0;34m]\u001b[0m\u001b[0;34m,\u001b[0m\u001b[0;34m\u001b[0m\u001b[0;34m\u001b[0m\u001b[0m\n",
      "\u001b[0m\u001b[0;32m    100 \u001b[0;31m                \u001b[0;34m\"lr_scale\"\u001b[0m\u001b[0;34m:\u001b[0m \u001b[0mscale\u001b[0m\u001b[0;34m\u001b[0m\u001b[0;34m\u001b[0m\u001b[0m\n",
      "\u001b[0m\n"
     ]
    }
   ],
   "source": [
    "run main_denoise_cae.py"
   ]
  },
  {
   "cell_type": "code",
   "execution_count": null,
   "id": "bb248ed2",
   "metadata": {},
   "outputs": [],
   "source": []
  },
  {
   "cell_type": "code",
   "execution_count": null,
   "id": "da52505a",
   "metadata": {},
   "outputs": [],
   "source": []
  },
  {
   "cell_type": "code",
   "execution_count": null,
   "id": "79301248",
   "metadata": {},
   "outputs": [],
   "source": []
  }
 ],
 "metadata": {
  "kernelspec": {
   "display_name": "Python 3 (ipykernel)",
   "language": "python",
   "name": "python3"
  },
  "language_info": {
   "codemirror_mode": {
    "name": "ipython",
    "version": 3
   },
   "file_extension": ".py",
   "mimetype": "text/x-python",
   "name": "python",
   "nbconvert_exporter": "python",
   "pygments_lexer": "ipython3",
   "version": "3.8.10"
  }
 },
 "nbformat": 4,
 "nbformat_minor": 5
}
